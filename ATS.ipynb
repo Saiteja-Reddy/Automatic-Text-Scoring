{
 "cells": [
  {
   "cell_type": "code",
   "execution_count": 92,
   "metadata": {},
   "outputs": [],
   "source": [
    "import  keras.layers  as  klayers \n",
    "from keras.preprocessing.text import text_to_word_sequence\n",
    "from keras.preprocessing.sequence import pad_sequences\n",
    "from keras.layers import Dense, LSTM, Input, Embedding, GlobalAveragePooling1D, Concatenate, Activation, Lambda, BatchNormalization, Convolution1D, Dropout\n",
    "from keras.models import Model\n",
    "from keras import backend as K\n",
    "from keras.engine.topology import Layer, InputSpec\n",
    "from keras.optimizers import Adam\n",
    "from keras.callbacks import EarlyStopping\n",
    "from keras import regularizers\n",
    "from keras import initializers\n",
    "from scipy import stats\n",
    "from keras.preprocessing.text import Tokenizer\n",
    "import numpy as np\n",
    "from gensim.models import Word2Vec,doc2vec\n",
    "import nltk\n",
    "from quadratic_weighted_kappa import QWK\n",
    "from sklearn.metrics import cohen_kappa_score\n",
    "\n",
    "\n",
    "from additional_feature_getter import feature_getter"
   ]
  },
  {
   "cell_type": "code",
   "execution_count": 93,
   "metadata": {},
   "outputs": [],
   "source": [
    "class Neural_Tensor_layer(Layer):\n",
    "\tdef __init__(self,output_dim,input_dim=None, **kwargs):\n",
    "\t\tself.output_dim=output_dim\n",
    "\t\tself.input_dim=input_dim\n",
    "\t\tif self.input_dim:\n",
    "\t\t\tkwargs['input_shape']=(self.input_dim,)\n",
    "\t\tsuper(Neural_Tensor_layer,self).__init__(**kwargs)\n",
    "\n",
    "\tdef build(self,input_shape):\n",
    "\t\tmean=0.0\n",
    "\t\tstd=1.0\n",
    "\t\tk=self.output_dim\n",
    "\t\td=self.input_dim\n",
    "\t\t##truncnorm generate continuous random numbers in given range\n",
    "\t\tW_val=stats.truncnorm.rvs(-2 * std, 2 * std, loc=mean, scale=std, size=(k,d,d))\n",
    "\t\tV_val=stats.truncnorm.rvs(-2 * std, 2 * std, loc=mean, scale=std, size=(2*d,k))\n",
    "\t\tself.W=K.variable(W_val)\n",
    "\t\tself.V=K.variable(V_val)\n",
    "\t\tself.b=K.zeros((self.input_dim,))\n",
    "\t\tself.trainable_weights=[self.W,self.V,self.b]\n",
    "\n",
    "\tdef call(self,inputs,mask=None):\n",
    "\t\te1=inputs[0]\n",
    "\t\te2=inputs[1]\n",
    "\t\tbatch_size=K.shape(e1)[0]\n",
    "\t\tk=self.output_dim\n",
    "\t\t\n",
    "\n",
    "\t\tfeed_forward=K.dot(K.concatenate([e1,e2]),self.V)\n",
    "\n",
    "\t\tbilinear_tensor_products = [ K.sum((e2 * K.dot(e1, self.W[0])) + self.b, axis=1) ]\n",
    "\n",
    "\t\tfor i in range(k)[1:]:\t\n",
    "\t\t\tbtp=K.sum((e2*K.dot(e1,self.W[i]))+self.b,axis=1)\n",
    "\t\t\tbilinear_tensor_products.append(btp)\n",
    "\n",
    "\t\tresult=K.tanh(K.reshape(K.concatenate(bilinear_tensor_products,axis=0),(batch_size,k))+feed_forward)\n",
    "\n",
    "\t\treturn result\n",
    "\n",
    "\tdef compute_output_shape(self, input_shape):\n",
    "\t\tbatch_size=input_shape[0][0]\n",
    "\t\treturn(batch_size,self.output_dim)"
   ]
  },
  {
   "cell_type": "code",
   "execution_count": 94,
   "metadata": {},
   "outputs": [],
   "source": [
    "class Temporal_Mean_Pooling(Layer): # conversion from (samples,timesteps,features) to (samples,features)\n",
    "\tdef __init__(self, **kwargs):\n",
    "\t\tsuper(Temporal_Mean_Pooling,self).__init__(**kwargs)\n",
    "\t\t# masked values in x (number_of_samples,time)\n",
    "\t\tself.supports_masking=True\n",
    "\t\t# Specifies number of dimensions to each layer\n",
    "\t\tself.input_spec=InputSpec(ndim=3)\n",
    "\n",
    "\tdef call(self,x,mask=None):\n",
    "\t\tif mask is None:\n",
    "\t\t\tmask=K.mean(K.ones_like(x),axis=-1)\n",
    "\n",
    "\t\tmask=K.cast(mask,K.floatx())\n",
    "\t\t\t\t#dimension size single vec/number of samples\n",
    "\t\treturn K.sum(x,axis=-2)/K.sum(mask,axis=-1,keepdims=True)\n",
    "\n",
    "\tdef compute_mask(self,input,mask):\n",
    "\t\treturn None\n",
    "\tdef compute_output_shape(self,input_shape):\n",
    "\t\treturn (input_shape[0],input_shape[2])"
   ]
  },
  {
   "cell_type": "code",
   "execution_count": 95,
   "metadata": {},
   "outputs": [
    {
     "name": "stdout",
     "output_type": "stream",
     "text": [
      "Embedding done\n"
     ]
    }
   ],
   "source": [
    "fp1=open(\"glove/glove.6B.300d.txt\",\"r\")\n",
    "glove_emb={}\n",
    "for line in fp1:\n",
    "\ttemp=line.split(\" \")\n",
    "\tglove_emb[temp[0]]=np.asarray([float(i) for i in temp[1:]])\n",
    "\n",
    "print(\"Embedding done\")"
   ]
  },
  {
   "cell_type": "code",
   "execution_count": 96,
   "metadata": {},
   "outputs": [],
   "source": [
    "EMBEDDING_DIM=300\n",
    "MAX_NB_WORDS=4000\n",
    "MAX_SEQUENCE_LENGTH=500\n",
    "VALIDATION_SPLIT=0.20\n",
    "DELTA=20\n",
    "\n",
    "\n",
    "texts=[]\n",
    "labels=[]\n",
    "sentences=[]\n",
    "\n",
    "additional_features=[]"
   ]
  },
  {
   "cell_type": "code",
   "execution_count": 97,
   "metadata": {},
   "outputs": [],
   "source": [
    "fp=open(\"data/training_set_rel3.tsv\",'r', encoding=\"ascii\", errors=\"ignore\")\n",
    "fp.readline()\n",
    "sentences=[]\n",
    "doctovec=[]\n",
    "for line in fp:\n",
    "    temp=line.split(\"\\t\")\n",
    "    if(temp[1]=='4'):\n",
    "        texts.append(temp[2])\n",
    "        labels.append(int(temp[6])/3.0)\n",
    "        line=temp[2].strip()\n",
    "        sentences.append(nltk.tokenize.word_tokenize(line))\n",
    "\n",
    "fp.close()"
   ]
  },
  {
   "cell_type": "code",
   "execution_count": 98,
   "metadata": {},
   "outputs": [
    {
     "name": "stdout",
     "output_type": "stream",
     "text": [
      "text labels appended 1772\n"
     ]
    }
   ],
   "source": [
    "print(\"text labels appended %s\" %len(texts))\n",
    "\n",
    "labels=np.asarray(labels)\n",
    "\n",
    "for i in texts:\n",
    "\tadditional_features.append(feature_getter(i))"
   ]
  },
  {
   "cell_type": "code",
   "execution_count": 99,
   "metadata": {},
   "outputs": [],
   "source": [
    "additional_features=np.asarray(additional_features)\n",
    "for i in sentences:\n",
    "\ttemp1=np.zeros((1, EMBEDDING_DIM))\n",
    "\tfor w in i:\n",
    "\t\tif(w in glove_emb):\n",
    "\t\t\ttemp1+=glove_emb[w]\n",
    "\ttemp1/=len(i)\n",
    "\tdoctovec.append(temp1.reshape(300,))"
   ]
  },
  {
   "cell_type": "code",
   "execution_count": 100,
   "metadata": {},
   "outputs": [],
   "source": [
    "doctovec=np.asarray(doctovec)"
   ]
  },
  {
   "cell_type": "code",
   "execution_count": 101,
   "metadata": {},
   "outputs": [
    {
     "name": "stdout",
     "output_type": "stream",
     "text": [
      "Found 4953 unique tokens.\n",
      "(1772, 7) (1772, 500)\n",
      "Shape of data tensor: (1772, 500)\n"
     ]
    }
   ],
   "source": [
    "tokenizer=Tokenizer() #num_words=MAX_NB_WORDS) #limits vocabulory size\n",
    "tokenizer.fit_on_texts(texts)\n",
    "sequences=tokenizer.texts_to_sequences(texts) #returns list of sequences\n",
    "word_index=tokenizer.word_index #dictionary mapping\n",
    "print('Found %s unique tokens.' % len(word_index))\n",
    "\n",
    "data = pad_sequences(sequences, maxlen=MAX_SEQUENCE_LENGTH)\n",
    "\n",
    "print(additional_features.shape,data.shape)\n",
    "\n",
    "print('Shape of data tensor:', data.shape)"
   ]
  },
  {
   "cell_type": "code",
   "execution_count": 102,
   "metadata": {},
   "outputs": [],
   "source": [
    "indices=np.arange(data.shape[0])\n",
    "np.random.shuffle(indices)\n",
    "data=data[indices]\n",
    "labels=labels[indices]\n",
    "doctovec=doctovec[indices]\n",
    "additional_features=additional_features[indices]\n",
    "validation_size=int(VALIDATION_SPLIT*data.shape[0])"
   ]
  },
  {
   "cell_type": "code",
   "execution_count": 103,
   "metadata": {},
   "outputs": [],
   "source": [
    "x_train=data[:-validation_size]\n",
    "y_train=labels[:-validation_size]\n",
    "doctovec_train=doctovec[:-validation_size]\n",
    "x_val=data[-validation_size:]\n",
    "y_val=labels[-validation_size:]\n",
    "train_ad=additional_features[:-validation_size]\n",
    "val_ad=additional_features[-validation_size:]\n",
    "doctovec_val=doctovec[-validation_size:]"
   ]
  },
  {
   "cell_type": "code",
   "execution_count": 104,
   "metadata": {},
   "outputs": [],
   "source": [
    "model=Word2Vec(sentences,min_count=1, sg=1,size=EMBEDDING_DIM)\n",
    "\n",
    "model.save(\"3_embeddings\")\n",
    "\n",
    "embedding_matrix = np.zeros((len(word_index), EMBEDDING_DIM))"
   ]
  },
  {
   "cell_type": "code",
   "execution_count": 105,
   "metadata": {},
   "outputs": [],
   "source": [
    "for word,i in word_index.items():\n",
    "\tif(i>=len(word_index)):\n",
    "\t\tcontinue\n",
    "\tif word in glove_emb:\n",
    "\t\t\tembedding_matrix[i]=glove_emb[word]\n",
    "\t# if word in model.wv.vocab.keys():\n",
    "\t# \tembedding_matrix[i]=model.wv[word]\n",
    "\n",
    "vocab_size=len(word_index)"
   ]
  },
  {
   "cell_type": "code",
   "execution_count": 106,
   "metadata": {},
   "outputs": [],
   "source": [
    "embedding_layer=Embedding(vocab_size,EMBEDDING_DIM,weights=[embedding_matrix],\n",
    "\t\t\t\t\t\t\tinput_length=MAX_SEQUENCE_LENGTH,\n",
    "\t\t\t\t\t\t\tmask_zero=True,\n",
    "\t\t\t\t\t\t\ttrainable=False)\n",
    "side_embedding_layer=Embedding(vocab_size,EMBEDDING_DIM,weights=[embedding_matrix],\n",
    "\t\t\t\t\t\t\tinput_length=MAX_SEQUENCE_LENGTH,\n",
    "\t\t\t\t\t\t\tmask_zero=False,\n",
    "\t\t\t\t\t\t\ttrainable=False)"
   ]
  },
  {
   "cell_type": "code",
   "execution_count": 107,
   "metadata": {},
   "outputs": [],
   "source": [
    "def SKIPFLOW(lstm_dim=50, lr=1e-4, lr_decay=1e-6, k=5, eta=3, delta=50, activation=\"relu\", maxlen=MAX_SEQUENCE_LENGTH, seed=None):\n",
    "\te = Input(name='essay',shape=(maxlen,))\n",
    "\ttrad_feats=Input(shape=(7,))\n",
    "\tdtov=Input(shape=(300,))\n",
    "\tembed = embedding_layer(e)\n",
    "\tside_embed = side_embedding_layer(e)\n",
    "\tlstm_layer=LSTM(lstm_dim,return_sequences=True)\n",
    "\thidden_states=lstm_layer(embed)\n",
    "\tside_hidden_states=lstm_layer(side_embed)\n",
    "\thtm=Temporal_Mean_Pooling()(hidden_states)\n",
    "\ttensor_layer=Neural_Tensor_layer(output_dim=k,input_dim=lstm_dim)\n",
    "\tpairs = [((eta + i * delta) % maxlen, (eta + i * delta + delta) % maxlen) for i in range(maxlen // delta)]\n",
    "\thidden_pairs = [ (Lambda(lambda t: t[:, p[0], :])(side_hidden_states), Lambda(lambda t: t[:, p[1], :])(side_hidden_states)) for p in pairs]\n",
    "\tsigmoid = Dense(1, activation=\"sigmoid\", kernel_initializer=initializers.glorot_normal(seed=seed))\n",
    "\tcoherence = [sigmoid(tensor_layer([hp[0], hp[1]])) for hp in hidden_pairs]\n",
    "\tco_tm=Concatenate()(coherence[:]+[htm])\n",
    "\tdense = Dense(256, activation=activation,kernel_initializer=initializers.glorot_normal(seed=seed))(co_tm)\n",
    "\tdense = Dense(128, activation=activation,kernel_initializer=initializers.glorot_normal(seed=seed))(dense)\n",
    "\tdense = Dense(64, activation=activation,kernel_initializer=initializers.glorot_normal(seed=seed))(dense)\n",
    "\tout = Dense(1, activation=\"sigmoid\")(dense)\n",
    "\tmodel = Model(inputs=[e,trad_feats,dtov], outputs=[out])\n",
    "\tadam = Adam(lr=lr, decay=lr_decay)\n",
    "\tmodel.compile(loss=\"mean_squared_error\", optimizer=adam, metrics=[\"MSE\"])\n",
    "\treturn model\n"
   ]
  },
  {
   "cell_type": "code",
   "execution_count": 108,
   "metadata": {},
   "outputs": [],
   "source": [
    "earlystopping = EarlyStopping(monitor=\"val_mean_squared_error\", patience=5)\n",
    "sf_1 = SKIPFLOW(lstm_dim=50, lr=2e-4, lr_decay=2e-6, k=4, eta=13, delta=50, activation=\"relu\", seed=None)\n"
   ]
  },
  {
   "cell_type": "code",
   "execution_count": 109,
   "metadata": {},
   "outputs": [
    {
     "name": "stdout",
     "output_type": "stream",
     "text": [
      "Train on 1418 samples, validate on 354 samples\n",
      "Epoch 1/1000\n",
      "1418/1418 [==============================] - 10s 7ms/step - loss: 0.0987 - mean_squared_error: 0.0987 - val_loss: 0.0916 - val_mean_squared_error: 0.0916\n",
      "Epoch 2/1000\n",
      "1418/1418 [==============================] - 4s 3ms/step - loss: 0.0981 - mean_squared_error: 0.0981 - val_loss: 0.0911 - val_mean_squared_error: 0.0911\n",
      "Epoch 3/1000\n",
      "1418/1418 [==============================] - 3s 2ms/step - loss: 0.0974 - mean_squared_error: 0.0974 - val_loss: 0.0905 - val_mean_squared_error: 0.0905\n",
      "Epoch 4/1000\n",
      "1418/1418 [==============================] - 3s 2ms/step - loss: 0.0967 - mean_squared_error: 0.0967 - val_loss: 0.0899 - val_mean_squared_error: 0.0899\n",
      "Epoch 5/1000\n",
      "1418/1418 [==============================] - 3s 2ms/step - loss: 0.0959 - mean_squared_error: 0.0959 - val_loss: 0.0892 - val_mean_squared_error: 0.0892\n",
      "Epoch 6/1000\n",
      "1418/1418 [==============================] - 3s 2ms/step - loss: 0.0950 - mean_squared_error: 0.0950 - val_loss: 0.0882 - val_mean_squared_error: 0.0882\n",
      "Epoch 7/1000\n",
      "1418/1418 [==============================] - 3s 2ms/step - loss: 0.0939 - mean_squared_error: 0.0939 - val_loss: 0.0871 - val_mean_squared_error: 0.0871\n",
      "Epoch 8/1000\n",
      "1418/1418 [==============================] - 4s 3ms/step - loss: 0.0926 - mean_squared_error: 0.0926 - val_loss: 0.0857 - val_mean_squared_error: 0.0857\n",
      "Epoch 9/1000\n",
      "1418/1418 [==============================] - 3s 2ms/step - loss: 0.0911 - mean_squared_error: 0.0911 - val_loss: 0.0842 - val_mean_squared_error: 0.0842\n",
      "Epoch 10/1000\n",
      "1418/1418 [==============================] - 3s 2ms/step - loss: 0.0892 - mean_squared_error: 0.0892 - val_loss: 0.0824 - val_mean_squared_error: 0.0824\n",
      "Epoch 11/1000\n",
      "1418/1418 [==============================] - 3s 2ms/step - loss: 0.0869 - mean_squared_error: 0.0869 - val_loss: 0.0804 - val_mean_squared_error: 0.0804\n",
      "Epoch 12/1000\n",
      "1418/1418 [==============================] - 3s 2ms/step - loss: 0.0847 - mean_squared_error: 0.0847 - val_loss: 0.0784 - val_mean_squared_error: 0.0784\n",
      "Epoch 13/1000\n",
      "1418/1418 [==============================] - 3s 2ms/step - loss: 0.0822 - mean_squared_error: 0.0822 - val_loss: 0.0760 - val_mean_squared_error: 0.0760\n",
      "Epoch 14/1000\n",
      "1418/1418 [==============================] - 3s 2ms/step - loss: 0.0795 - mean_squared_error: 0.0795 - val_loss: 0.0735 - val_mean_squared_error: 0.0735\n",
      "Epoch 15/1000\n",
      "1418/1418 [==============================] - 3s 2ms/step - loss: 0.0766 - mean_squared_error: 0.0766 - val_loss: 0.0709 - val_mean_squared_error: 0.0709\n",
      "Epoch 16/1000\n",
      "1418/1418 [==============================] - 3s 2ms/step - loss: 0.0733 - mean_squared_error: 0.0733 - val_loss: 0.0682 - val_mean_squared_error: 0.0682\n",
      "Epoch 17/1000\n",
      "1418/1418 [==============================] - 3s 2ms/step - loss: 0.0700 - mean_squared_error: 0.0700 - val_loss: 0.0653 - val_mean_squared_error: 0.0653\n",
      "Epoch 18/1000\n",
      "1418/1418 [==============================] - 3s 2ms/step - loss: 0.0667 - mean_squared_error: 0.0667 - val_loss: 0.0626 - val_mean_squared_error: 0.0626\n",
      "Epoch 19/1000\n",
      "1418/1418 [==============================] - 4s 3ms/step - loss: 0.0631 - mean_squared_error: 0.0631 - val_loss: 0.0598 - val_mean_squared_error: 0.0598\n",
      "Epoch 20/1000\n",
      "1418/1418 [==============================] - 3s 2ms/step - loss: 0.0595 - mean_squared_error: 0.0595 - val_loss: 0.0572 - val_mean_squared_error: 0.0572\n",
      "Epoch 21/1000\n",
      "1418/1418 [==============================] - 3s 2ms/step - loss: 0.0561 - mean_squared_error: 0.0561 - val_loss: 0.0550 - val_mean_squared_error: 0.0550\n",
      "Epoch 22/1000\n",
      "1418/1418 [==============================] - 3s 2ms/step - loss: 0.0533 - mean_squared_error: 0.0533 - val_loss: 0.0536 - val_mean_squared_error: 0.0536\n",
      "Epoch 23/1000\n",
      "1418/1418 [==============================] - 3s 2ms/step - loss: 0.0504 - mean_squared_error: 0.0504 - val_loss: 0.0514 - val_mean_squared_error: 0.0514\n",
      "Epoch 24/1000\n",
      "1418/1418 [==============================] - 3s 2ms/step - loss: 0.0480 - mean_squared_error: 0.0480 - val_loss: 0.0501 - val_mean_squared_error: 0.0501\n",
      "Epoch 25/1000\n",
      "1418/1418 [==============================] - 3s 2ms/step - loss: 0.0460 - mean_squared_error: 0.0460 - val_loss: 0.0497 - val_mean_squared_error: 0.0497\n",
      "Epoch 26/1000\n",
      "1418/1418 [==============================] - 3s 2ms/step - loss: 0.0442 - mean_squared_error: 0.0442 - val_loss: 0.0486 - val_mean_squared_error: 0.0486\n",
      "Epoch 27/1000\n",
      "1418/1418 [==============================] - 3s 2ms/step - loss: 0.0428 - mean_squared_error: 0.0428 - val_loss: 0.0473 - val_mean_squared_error: 0.0473\n",
      "Epoch 28/1000\n",
      "1418/1418 [==============================] - 3s 2ms/step - loss: 0.0414 - mean_squared_error: 0.0414 - val_loss: 0.0466 - val_mean_squared_error: 0.0466\n",
      "Epoch 29/1000\n",
      "1418/1418 [==============================] - 4s 3ms/step - loss: 0.0402 - mean_squared_error: 0.0402 - val_loss: 0.0454 - val_mean_squared_error: 0.0454\n",
      "Epoch 30/1000\n",
      "1418/1418 [==============================] - 4s 3ms/step - loss: 0.0390 - mean_squared_error: 0.0390 - val_loss: 0.0446 - val_mean_squared_error: 0.0446\n",
      "Epoch 31/1000\n",
      "1418/1418 [==============================] - 4s 3ms/step - loss: 0.0384 - mean_squared_error: 0.0384 - val_loss: 0.0441 - val_mean_squared_error: 0.0441\n",
      "Epoch 32/1000\n",
      "1418/1418 [==============================] - 4s 3ms/step - loss: 0.0372 - mean_squared_error: 0.0372 - val_loss: 0.0431 - val_mean_squared_error: 0.0431\n",
      "Epoch 33/1000\n",
      "1418/1418 [==============================] - 4s 2ms/step - loss: 0.0370 - mean_squared_error: 0.0370 - val_loss: 0.0422 - val_mean_squared_error: 0.0422\n",
      "Epoch 34/1000\n",
      "1418/1418 [==============================] - 4s 3ms/step - loss: 0.0358 - mean_squared_error: 0.0358 - val_loss: 0.0415 - val_mean_squared_error: 0.0415\n",
      "Epoch 35/1000\n",
      "1418/1418 [==============================] - 4s 3ms/step - loss: 0.0351 - mean_squared_error: 0.0351 - val_loss: 0.0410 - val_mean_squared_error: 0.0410\n",
      "Epoch 36/1000\n",
      "1418/1418 [==============================] - 3s 2ms/step - loss: 0.0351 - mean_squared_error: 0.0351 - val_loss: 0.0404 - val_mean_squared_error: 0.0404\n",
      "Epoch 37/1000\n",
      "1418/1418 [==============================] - 3s 2ms/step - loss: 0.0345 - mean_squared_error: 0.0345 - val_loss: 0.0402 - val_mean_squared_error: 0.0402\n",
      "Epoch 38/1000\n",
      "1418/1418 [==============================] - 3s 2ms/step - loss: 0.0342 - mean_squared_error: 0.0342 - val_loss: 0.0399 - val_mean_squared_error: 0.0399\n",
      "Epoch 39/1000\n",
      "1418/1418 [==============================] - 3s 2ms/step - loss: 0.0338 - mean_squared_error: 0.0338 - val_loss: 0.0395 - val_mean_squared_error: 0.0395\n",
      "Epoch 40/1000\n",
      "1418/1418 [==============================] - 4s 3ms/step - loss: 0.0332 - mean_squared_error: 0.0332 - val_loss: 0.0395 - val_mean_squared_error: 0.0395\n",
      "Epoch 41/1000\n",
      "1418/1418 [==============================] - 3s 2ms/step - loss: 0.0330 - mean_squared_error: 0.0330 - val_loss: 0.0391 - val_mean_squared_error: 0.0391\n",
      "Epoch 42/1000\n",
      "1418/1418 [==============================] - 3s 2ms/step - loss: 0.0328 - mean_squared_error: 0.0328 - val_loss: 0.0391 - val_mean_squared_error: 0.0391\n",
      "Epoch 43/1000\n",
      "1418/1418 [==============================] - 4s 3ms/step - loss: 0.0325 - mean_squared_error: 0.0325 - val_loss: 0.0388 - val_mean_squared_error: 0.0388\n",
      "Epoch 44/1000\n",
      "1418/1418 [==============================] - 3s 2ms/step - loss: 0.0320 - mean_squared_error: 0.0320 - val_loss: 0.0387 - val_mean_squared_error: 0.0387\n",
      "Epoch 45/1000\n",
      "1418/1418 [==============================] - 3s 2ms/step - loss: 0.0318 - mean_squared_error: 0.0318 - val_loss: 0.0388 - val_mean_squared_error: 0.0388\n",
      "Epoch 46/1000\n",
      "1418/1418 [==============================] - 3s 2ms/step - loss: 0.0318 - mean_squared_error: 0.0318 - val_loss: 0.0384 - val_mean_squared_error: 0.0384\n",
      "Epoch 47/1000\n",
      "1418/1418 [==============================] - 3s 2ms/step - loss: 0.0313 - mean_squared_error: 0.0313 - val_loss: 0.0383 - val_mean_squared_error: 0.0383\n",
      "Epoch 48/1000\n",
      "1418/1418 [==============================] - 3s 2ms/step - loss: 0.0308 - mean_squared_error: 0.0308 - val_loss: 0.0382 - val_mean_squared_error: 0.0382\n",
      "Epoch 49/1000\n",
      "1418/1418 [==============================] - 3s 2ms/step - loss: 0.0308 - mean_squared_error: 0.0308 - val_loss: 0.0380 - val_mean_squared_error: 0.0380\n"
     ]
    },
    {
     "name": "stdout",
     "output_type": "stream",
     "text": [
      "Epoch 50/1000\n",
      "1418/1418 [==============================] - 3s 2ms/step - loss: 0.0304 - mean_squared_error: 0.0304 - val_loss: 0.0380 - val_mean_squared_error: 0.0380\n",
      "Epoch 51/1000\n",
      "1418/1418 [==============================] - 3s 2ms/step - loss: 0.0306 - mean_squared_error: 0.0306 - val_loss: 0.0378 - val_mean_squared_error: 0.0378\n",
      "Epoch 52/1000\n",
      "1418/1418 [==============================] - 3s 2ms/step - loss: 0.0306 - mean_squared_error: 0.0306 - val_loss: 0.0377 - val_mean_squared_error: 0.0377\n",
      "Epoch 53/1000\n",
      "1418/1418 [==============================] - 3s 2ms/step - loss: 0.0302 - mean_squared_error: 0.0302 - val_loss: 0.0383 - val_mean_squared_error: 0.0383\n",
      "Epoch 54/1000\n",
      "1418/1418 [==============================] - 3s 2ms/step - loss: 0.0298 - mean_squared_error: 0.0298 - val_loss: 0.0376 - val_mean_squared_error: 0.0376\n",
      "Epoch 55/1000\n",
      "1418/1418 [==============================] - 3s 2ms/step - loss: 0.0294 - mean_squared_error: 0.0294 - val_loss: 0.0376 - val_mean_squared_error: 0.0376\n",
      "Epoch 56/1000\n",
      "1418/1418 [==============================] - 3s 2ms/step - loss: 0.0294 - mean_squared_error: 0.0294 - val_loss: 0.0376 - val_mean_squared_error: 0.0376\n",
      "Epoch 57/1000\n",
      "1418/1418 [==============================] - 4s 3ms/step - loss: 0.0292 - mean_squared_error: 0.0292 - val_loss: 0.0374 - val_mean_squared_error: 0.0374\n",
      "Epoch 58/1000\n",
      "1418/1418 [==============================] - 4s 3ms/step - loss: 0.0287 - mean_squared_error: 0.0287 - val_loss: 0.0372 - val_mean_squared_error: 0.0372\n",
      "Epoch 59/1000\n",
      "1418/1418 [==============================] - 3s 2ms/step - loss: 0.0288 - mean_squared_error: 0.0288 - val_loss: 0.0371 - val_mean_squared_error: 0.0371\n",
      "Epoch 60/1000\n",
      "1418/1418 [==============================] - 3s 2ms/step - loss: 0.0288 - mean_squared_error: 0.0288 - val_loss: 0.0372 - val_mean_squared_error: 0.0372\n",
      "Epoch 61/1000\n",
      "1418/1418 [==============================] - 4s 3ms/step - loss: 0.0284 - mean_squared_error: 0.0284 - val_loss: 0.0370 - val_mean_squared_error: 0.0370\n",
      "Epoch 62/1000\n",
      "1418/1418 [==============================] - 4s 3ms/step - loss: 0.0284 - mean_squared_error: 0.0284 - val_loss: 0.0372 - val_mean_squared_error: 0.0372\n",
      "Epoch 63/1000\n",
      "1418/1418 [==============================] - 3s 2ms/step - loss: 0.0284 - mean_squared_error: 0.0284 - val_loss: 0.0372 - val_mean_squared_error: 0.0372\n",
      "Epoch 64/1000\n",
      "1418/1418 [==============================] - 3s 2ms/step - loss: 0.0278 - mean_squared_error: 0.0278 - val_loss: 0.0370 - val_mean_squared_error: 0.0370\n",
      "Epoch 65/1000\n",
      "1418/1418 [==============================] - 3s 2ms/step - loss: 0.0280 - mean_squared_error: 0.0280 - val_loss: 0.0370 - val_mean_squared_error: 0.0370\n",
      "Epoch 66/1000\n",
      "1418/1418 [==============================] - 3s 2ms/step - loss: 0.0274 - mean_squared_error: 0.0274 - val_loss: 0.0370 - val_mean_squared_error: 0.0370\n",
      "Epoch 67/1000\n",
      "1418/1418 [==============================] - 3s 2ms/step - loss: 0.0272 - mean_squared_error: 0.0272 - val_loss: 0.0371 - val_mean_squared_error: 0.0371\n",
      "Epoch 68/1000\n",
      "1418/1418 [==============================] - 3s 2ms/step - loss: 0.0273 - mean_squared_error: 0.0273 - val_loss: 0.0372 - val_mean_squared_error: 0.0372\n",
      "Epoch 69/1000\n",
      "1418/1418 [==============================] - 3s 2ms/step - loss: 0.0271 - mean_squared_error: 0.0271 - val_loss: 0.0369 - val_mean_squared_error: 0.0369\n",
      "Epoch 70/1000\n",
      "1418/1418 [==============================] - 3s 2ms/step - loss: 0.0272 - mean_squared_error: 0.0272 - val_loss: 0.0368 - val_mean_squared_error: 0.0368\n",
      "Epoch 71/1000\n",
      "1418/1418 [==============================] - 3s 2ms/step - loss: 0.0270 - mean_squared_error: 0.0270 - val_loss: 0.0369 - val_mean_squared_error: 0.0369\n",
      "Epoch 72/1000\n",
      "1418/1418 [==============================] - 3s 2ms/step - loss: 0.0267 - mean_squared_error: 0.0267 - val_loss: 0.0367 - val_mean_squared_error: 0.0367\n",
      "Epoch 73/1000\n",
      "1418/1418 [==============================] - 4s 2ms/step - loss: 0.0264 - mean_squared_error: 0.0264 - val_loss: 0.0365 - val_mean_squared_error: 0.0365\n",
      "Epoch 74/1000\n",
      "1418/1418 [==============================] - 3s 2ms/step - loss: 0.0265 - mean_squared_error: 0.0265 - val_loss: 0.0367 - val_mean_squared_error: 0.0367\n",
      "Epoch 75/1000\n",
      "1418/1418 [==============================] - 4s 3ms/step - loss: 0.0264 - mean_squared_error: 0.0264 - val_loss: 0.0365 - val_mean_squared_error: 0.0365\n",
      "Epoch 76/1000\n",
      "1418/1418 [==============================] - 3s 2ms/step - loss: 0.0263 - mean_squared_error: 0.0263 - val_loss: 0.0364 - val_mean_squared_error: 0.0364\n",
      "Epoch 77/1000\n",
      "1418/1418 [==============================] - 3s 2ms/step - loss: 0.0262 - mean_squared_error: 0.0262 - val_loss: 0.0363 - val_mean_squared_error: 0.0363\n",
      "Epoch 78/1000\n",
      "1418/1418 [==============================] - 3s 2ms/step - loss: 0.0258 - mean_squared_error: 0.0258 - val_loss: 0.0366 - val_mean_squared_error: 0.0366\n",
      "Epoch 79/1000\n",
      "1418/1418 [==============================] - 3s 2ms/step - loss: 0.0260 - mean_squared_error: 0.0260 - val_loss: 0.0360 - val_mean_squared_error: 0.0360\n",
      "Epoch 80/1000\n",
      "1418/1418 [==============================] - 3s 2ms/step - loss: 0.0259 - mean_squared_error: 0.0259 - val_loss: 0.0360 - val_mean_squared_error: 0.0360\n",
      "Epoch 81/1000\n",
      "1418/1418 [==============================] - 3s 2ms/step - loss: 0.0252 - mean_squared_error: 0.0252 - val_loss: 0.0365 - val_mean_squared_error: 0.0365\n",
      "Epoch 82/1000\n",
      "1418/1418 [==============================] - 3s 2ms/step - loss: 0.0253 - mean_squared_error: 0.0253 - val_loss: 0.0364 - val_mean_squared_error: 0.0364\n",
      "Epoch 83/1000\n",
      "1418/1418 [==============================] - 4s 3ms/step - loss: 0.0255 - mean_squared_error: 0.0255 - val_loss: 0.0374 - val_mean_squared_error: 0.0374\n",
      "Epoch 84/1000\n",
      "1418/1418 [==============================] - 4s 3ms/step - loss: 0.0255 - mean_squared_error: 0.0255 - val_loss: 0.0360 - val_mean_squared_error: 0.0360\n"
     ]
    }
   ],
   "source": [
    "epochs = 1000\n",
    "hist = sf_1.fit([x_train,train_ad,doctovec_train], y_train, batch_size=1024, epochs=epochs,\n",
    "                validation_data=([x_val,val_ad,doctovec_val], y_val), callbacks=[earlystopping])\n"
   ]
  },
  {
   "cell_type": "code",
   "execution_count": 110,
   "metadata": {},
   "outputs": [],
   "source": [
    "y_pred=sf_1.predict([x_val,val_ad,doctovec_val])\n"
   ]
  },
  {
   "cell_type": "code",
   "execution_count": 111,
   "metadata": {},
   "outputs": [],
   "source": [
    "y_val_fin = [int(round(a*3)) for a in y_val]"
   ]
  },
  {
   "cell_type": "code",
   "execution_count": 122,
   "metadata": {},
   "outputs": [],
   "source": [
    "y_pred_fin =[int(round(a*3)) for a in y_pred.reshape(354).tolist()]"
   ]
  },
  {
   "cell_type": "code",
   "execution_count": 127,
   "metadata": {},
   "outputs": [
    {
     "name": "stdout",
     "output_type": "stream",
     "text": [
      "0.7353622926638369\n"
     ]
    }
   ],
   "source": [
    "print(cohen_kappa_score(y_val_fin,y_pred_fin,weights=\"quadratic\"))"
   ]
  },
  {
   "cell_type": "code",
   "execution_count": null,
   "metadata": {},
   "outputs": [],
   "source": []
  }
 ],
 "metadata": {
  "kernelspec": {
   "display_name": "Python 3",
   "language": "python",
   "name": "python3"
  },
  "language_info": {
   "codemirror_mode": {
    "name": "ipython",
    "version": 3
   },
   "file_extension": ".py",
   "mimetype": "text/x-python",
   "name": "python",
   "nbconvert_exporter": "python",
   "pygments_lexer": "ipython3",
   "version": "3.6.5"
  }
 },
 "nbformat": 4,
 "nbformat_minor": 2
}
